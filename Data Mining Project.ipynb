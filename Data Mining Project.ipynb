{
 "cells": [
  {
   "cell_type": "markdown",
   "metadata": {},
   "source": [
    "# Our Data Mining Pilot Study and Plan"
   ]
  },
  {
   "cell_type": "markdown",
   "metadata": {},
   "source": [
    "## Background\n",
    "\n",
    "*Describe the organization and its operations, operational environment, analytical needs, etc.*"
   ]
  },
  {
   "cell_type": "markdown",
   "metadata": {},
   "source": [
    "## Problem description\n",
    "\n",
    "*Describe the problem that the organization is facing and the research question it needs answered.*\n",
    "\n",
    "*Replace the contents of this cell with your own text.*"
   ]
  },
  {
   "cell_type": "markdown",
   "metadata": {},
   "source": [
    "## Data collection\n",
    "\n",
    "*Document your data collection process and the properties of the data here. Implement, using Python code, to load and preprocess your selected dataset.*\n",
    "\n",
    "*Replace the contents of this cell with your own text.*"
   ]
  },
  {
   "cell_type": "code",
   "execution_count": null,
   "metadata": {},
   "outputs": [],
   "source": [
    "# Run this cell to import the modules and set up some stuff\n",
    "import pandas as pd\n",
    "import matplotlib\n",
    "%matplotlib inline\n",
    "matplotlib.pyplot.rcParams['figure.figsize'] = [10, 6]"
   ]
  },
  {
   "cell_type": "code",
   "execution_count": null,
   "metadata": {},
   "outputs": [],
   "source": [
    "name_basics = pd.read_csv(\n",
    "    \"https://datasets.imdbws.com/name.basics.tsv.gz\", \n",
    "    encoding=\"utf-8\", sep=\"\\t\", \n",
    "    dtype={'nconst': str, 'primaryName': str, 'birthYear': str, 'deathYear': str, 'primaryProfession': str, 'knownForTitles': str}\n",
    ")"
   ]
  },
  {
   "cell_type": "code",
   "execution_count": null,
   "metadata": {},
   "outputs": [],
   "source": [
    "title_basics = pd.read_csv(\n",
    "    \"https://datasets.imdbws.com/title.basics.tsv.gz\", \n",
    "    encoding=\"utf-8\", sep=\"\\t\", \n",
    "    dtype={'tconst': str, 'titleType': str, 'primaryTitle': str, 'originalTitle': str, 'isAdult': int, 'startYear': str, 'endYear': str, 'runtimeMinutes': str, 'genres': str}\n",
    ")"
   ]
  },
  {
   "cell_type": "code",
   "execution_count": null,
   "metadata": {},
   "outputs": [],
   "source": [
    "title_crew = pd.read_csv(\n",
    "    \"https://datasets.imdbws.com/title.crew.tsv.gz\", \n",
    "    encoding=\"utf-8\", sep=\"\\t\", \n",
    "    dtype={'tconst': str, 'directors': str, 'writers': str}\n",
    ")"
   ]
  },
  {
   "cell_type": "code",
   "execution_count": null,
   "metadata": {},
   "outputs": [],
   "source": [
    "title_principals = pd.read_csv(\n",
    "    \"https://datasets.imdbws.com/title.principals.tsv.gz\", \n",
    "    encoding=\"utf-8\", sep=\"\\t\", \n",
    "    dtype={'tconst': str, 'ordering': int, 'nconst': str, 'category': str, 'job': str, 'characters': str}\n",
    ")"
   ]
  },
  {
   "cell_type": "code",
   "execution_count": null,
   "metadata": {},
   "outputs": [],
   "source": [
    "title_ratings = pd.read_csv(\n",
    "    \"https://datasets.imdbws.com/title.ratings.tsv.gz\", \n",
    "    encoding=\"utf-8\", sep=\"\\t\", \n",
    "    dtype={'tconst': str, 'averageRating': float, 'numVotes': int}\n",
    ")"
   ]
  },
  {
   "cell_type": "markdown",
   "metadata": {},
   "source": [
    "We filter out only the relevant columns in each table below:"
   ]
  },
  {
   "cell_type": "code",
   "execution_count": null,
   "metadata": {
    "scrolled": true
   },
   "outputs": [],
   "source": [
    "name_basics = name_basics[['nconst', 'primaryName', 'knownForTitles']]\n",
    "title_basics = title_basics[['tconst', 'titleType', 'primaryTitle', \n",
    "                             'startYear', 'runtimeMinutes', 'genres']]\n",
    "title_principals = title_principals[['tconst', 'ordering', 'nconst', 'category']]"
   ]
  },
  {
   "cell_type": "markdown",
   "metadata": {},
   "source": [
    "We filter out only the movies from the year 2000 and until 2017:"
   ]
  },
  {
   "cell_type": "code",
   "execution_count": null,
   "metadata": {
    "scrolled": true
   },
   "outputs": [],
   "source": [
    "title_basics_filtered = title_basics.loc[title_basics['titleType'] == \"movie\"]\n",
    "title_basics_filtered = title_basics_filtered.loc[title_basics_filtered['startYear'] >= \"2000\"]\n",
    "title_basics_filtered = title_basics_filtered.loc[title_basics_filtered['startYear'] <= \"2017\"]\n",
    "title_basics_filtered = title_basics_filtered[['tconst', 'primaryTitle', \n",
    "                             'startYear', 'runtimeMinutes', 'genres']]\n",
    "title_basics_filtered"
   ]
  },
  {
   "cell_type": "markdown",
   "metadata": {},
   "source": [
    "We filter out all ratings with less than 1000 votes and with an average rating above 8:"
   ]
  },
  {
   "cell_type": "code",
   "execution_count": null,
   "metadata": {
    "scrolled": true
   },
   "outputs": [],
   "source": [
    "title_ratings_filtered = title_ratings.loc[title_ratings['numVotes'] >= 1000]\n",
    "title_ratings_filtered = title_ratings_filtered.loc[title_ratings_filtered['averageRating'] >= 8.0]\n",
    "title_ratings_filtered"
   ]
  },
  {
   "cell_type": "code",
   "execution_count": null,
   "metadata": {
    "scrolled": true
   },
   "outputs": [],
   "source": [
    "movies_ratings = pd.merge(title_basics_filtered, title_ratings_filtered, on='tconst')\n",
    "movies_ratings"
   ]
  },
  {
   "cell_type": "code",
   "execution_count": null,
   "metadata": {},
   "outputs": [],
   "source": [
    "movies_ratings_crew = pd.merge(movies_ratings, title_crew, on='tconst')\n",
    "movies_ratings_crew"
   ]
  },
  {
   "cell_type": "markdown",
   "metadata": {},
   "source": [
    "## Data analysis\n",
    "\n",
    "*Document you choice and motivation for selected data mining method(s) here. Choose a data mining method(s) to use in Python code to perform an analysis of your chosen dataset. Describe why you chose the method(s) and what interesting things you have found from the analysis.*\n",
    "\n",
    "*Replace the contents of this cell with your own text.*"
   ]
  },
  {
   "cell_type": "code",
   "execution_count": null,
   "metadata": {},
   "outputs": [],
   "source": [
    "import collections\n",
    "most_popular_directors = collections.Counter(movies_ratings_crew[\"directors\"]).most_common()\n",
    "most_popular_directors = pd.DataFrame(list(most_popular_directors))\n",
    "most_popular_directors.columns = [\"nconst\", \"No. of movies\"]\n",
    "most_popular_directors"
   ]
  },
  {
   "cell_type": "code",
   "execution_count": null,
   "metadata": {},
   "outputs": [],
   "source": [
    "most_popular_directors = pd.merge(most_popular_directors, name_basics, on='nconst')\n",
    "most_popular_directors[['No. of movies', 'primaryName']]"
   ]
  },
  {
   "cell_type": "markdown",
   "metadata": {},
   "source": [
    "## Evaluation of results\n",
    "\n",
    "*Document an evaluation your analysis results and describe how potentially actionable they are.*\n",
    "\n",
    "*Replace the contents of this cell with your own text.*"
   ]
  },
  {
   "cell_type": "code",
   "execution_count": null,
   "metadata": {},
   "outputs": [],
   "source": [
    "# Add your own code"
   ]
  },
  {
   "cell_type": "markdown",
   "metadata": {},
   "source": [
    "## Schedule and description of project plan\n",
    "\n",
    "*Rough schedule for the project beyond the pilot study presented in 3-5. This does not have to be advanced, you can simply provide an estimate based upon reported schedules for similar projects in the literature.*\n",
    "\n",
    "*Replace the contents of this cell with your own text.*"
   ]
  },
  {
   "cell_type": "markdown",
   "metadata": {},
   "source": [
    "## Ethical aspects that need to be considered\n",
    "\n",
    "*Are there ethical aspects that need to be considered? Are there legal implications (e.g., personal data / GDPR)? Are there implications if the case organization is a business, public authority, or nonprofit entity?*\n",
    "\n",
    "*Replace the contents of this cell with your own text.*"
   ]
  },
  {
   "cell_type": "code",
   "execution_count": null,
   "metadata": {},
   "outputs": [],
   "source": []
  }
 ],
 "metadata": {
  "kernelspec": {
   "display_name": "Python 3",
   "language": "python",
   "name": "python3"
  },
  "language_info": {
   "codemirror_mode": {
    "name": "ipython",
    "version": 3
   },
   "file_extension": ".py",
   "mimetype": "text/x-python",
   "name": "python",
   "nbconvert_exporter": "python",
   "pygments_lexer": "ipython3",
   "version": "3.6.5"
  }
 },
 "nbformat": 4,
 "nbformat_minor": 2
}
