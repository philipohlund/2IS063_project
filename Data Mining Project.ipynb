{
 "cells": [
  {
   "cell_type": "markdown",
   "metadata": {},
   "source": [
    "# Group 1 - Data Mining and Data Science project"
   ]
  },
  {
   "cell_type": "markdown",
   "metadata": {},
   "source": [
    "## 1. Background\n",
    "\n",
    "*Describe the organization and its operations, operational environment, analytical needs, etc.*\n",
    "\n",
    "The organization chosen for this project is a fictional movie production company in the film industry that is creating and directing new movies. The typical working process for the company is as follow. They choose a work, or an idea, and get the full rights to it. Then they put the crew together, consisting of writer, director and actors. When all this is done they reach out to investors to get the money needed to produce the film. Then they create the film and sell it to theatres and resellers.\n",
    "\n",
    "In recent years, the company has not used any specific strategy for movie production. They have tried to guess what kind of movies people like and from that invested huge financial capital in the production. Then they have put the crew together without making any major analysis in advance. This strategy has only managed to produce a few successful movies, but the majority of all produced films are at a loss. The company has repeatedly tried to find a pattern for those movies that are profitable and sell well but has not succeeded yet. Eventually, they came to a point where they realized that their current strategy is not working well enough and if they continue as they do, they could be bankrupt in the near future. The next movie can be crucial for the company's survival.\n",
    "\n",
    "One of the factors that may increase the chance of a movie to be successful is that it has high ratings on IMDb. Many film companies use IMDB to find best-selling movies, therefore, high rated movies have a greater chance of generating profits (Meenakshi et al., 2018). Therefore, the company's primary goal is to get the best possible rating on IMDb. \n"
   ]
  },
  {
   "cell_type": "markdown",
   "metadata": {},
   "source": [
    "## 2. Problem description\n",
    "\n",
    "*Describe the problem that the organization is facing and the research question it needs answered.*\n",
    "\n",
    "### 2.1 Problem description\n",
    "\n",
    "The company has released several movies but none of them has been particularly successful. For their next movie, the aim is to make a bestseller, or at least more profitable, to get the company back on track again. This time they want to make an analysis of what factors they should take into account before starting the creation process of the movie. They want to find out what is most important to allocate their financial resources too, to optimize and improve the success rate of the film. This in turn to increases the monetary results of the film and reach their goal. \n",
    "\n",
    "It is difficult to say what aspects of a movie that are the most crucial factors of defining a movie as good (Oliver and Hartman, 2010). In addition to this, as Sharda and Delen (2006) explain that it is also very difficult to predict the demand for a movie in advance. Therefore this makes the movie business one of the riskiest endeavours for investors. There are even people claiming that it is not possible to predict how a movie is going to do in the marketplace (Sharda and Delen, 2006). As Jack Valenti, the former president of Motion Picture Association of America once said: “Excellence is a fragile substance and movie making is a collaboration of talent, which is why it is hard to make and buy great films.”  (Valenti, 1978). He is entitled that talent is required for making a good movie, as movies are subject to subjective judgment by the viewers. However, with the help of new technologies and methods, it could be possible to “hack” the normal way of producing movies to increase the chances of being successful.\n",
    "\n",
    "This project will look into if it is possible to do an analysis of the quantitative data of movies available at IMDb which are; the length of the movie, actors, writer,  director and genre. Then based on these, see if there are any factors that can increase the chances of producing a highly rated movie. One approach to this is data mining. According to Wu (et. al., 2014), Big Data can be used to explore a large amount of data and extract useful information. By using data mining on ratings of movies, and data of the movie, from the well-known website IMDb, some useful information hopefully will be extracted and used to help the company what they need to improve for the next movie.\n",
    "\n",
    "### 2.2 Research questions\n",
    "\t\n",
    "Based on the above this report will answer the following questions:\n",
    "Which are the most common factors for success among highly rated movies at IMDb? And which could be used or should not be used for the company’s next movie?\n",
    "\n",
    "### 2.3 Hypothesis\n",
    "\n",
    "To answer the question being asked, this research will look at factors that are believed to play a great role if the movie will get a high grade from the people watching it or not. The hypothesis, based on the data available through IMDb, is that the movie’s running time, the actors in it, the writer, the director and the genre are the factors that could have a major impact on the result. \n",
    "\n",
    "**_Running time_**\n",
    "\n",
    "It is not certain if previous researches have included a movie’s running time as a success factor for a movie. However, this could be interesting to look at. It is not impossible to think that the length has some impact on the viewers. Perhaps a too long movie will make the audience lose their concentration, or if it is too short they do not have time to fully get into the movie. \n",
    "\n",
    "**_Writers_**\n",
    "\n",
    "The writers  often, in comparison to actors and directors,  tend to be quite anonymous in relation to their films. And as Batty (2015) describes, there is a lack of screen production research which means that this is an area that may contain gaps. What is also important to baere in mind is that it is the writer who is the one who creates the basic material of the movie. Therefore in this analysis it should not matter who the writer of the movie is because the result is what is going to be used by the writer.  Nevertheless this is an interesting factor to look at in relation to the movie’s success rate, but in the end it should not significantly affect our result.\n",
    "\n",
    "**_Actors_**\n",
    "\n",
    "When others have tried to analyse the factors to a movie’s success many of them have looked into the impact of the stars of the movie (Lee et. al, 2016).That is, the actors. Lee et. al (2014) are using a measurement of “star buzz” in their analysis of a successful movie. Since many other movie researches are using this as a factor, and even though it has shown a mixed result, it seems like a factor that should be considered. It is also not difficult to imagine that a movie with a popular actor with many fans gets high rated just because the actor is acting in it. \n",
    "\n",
    "**_Director_**\n",
    "\n",
    "The director of the movie is likely to have an impact on the success rate. Parkeh and Biswas (2015) are analysing the factors that have most impact on movies in certain genres. Their results shows that in all of the six genres, direction is one of the driving factors. Therefore this factor will be used in this report as well. The difference in this research is that the aim is to find the names of the directors that often create successful movies. \n",
    "\n",
    "**_Genre_**\n",
    "\n",
    "The genre is used in this analysis since it is commonly used in other researches like this one (Lee et. al, 2014). It could be interesting to see if there are any specific genres that are extra popular now. \n",
    "\n",
    "### 2.3 Data Mining Goals and Success Criteria \n",
    "\n",
    "The goal with this data mining project is to have created a model showing the factors that will make a successful movie. \n",
    "\n",
    "Success criteria:\n",
    "A pattern can be interpreted.\n",
    "The prediction is somewhat credible.\n",
    "\n"
   ]
  },
  {
   "cell_type": "markdown",
   "metadata": {},
   "source": [
    "## 3. Data collection\n",
    "\n",
    "*Document your data collection process and the properties of the data here. Implement, using Python code, to load and preprocess your selected dataset.*\n",
    "\n",
    "### 3.1 Data Collection\n",
    "\n",
    "The data used for the analysis will be user rating data from IMDb. This data is free and can be obtained from IMDB (imdb.com, 2018) with its documentation available at https://www.imdb.com/interfaces/. The datasets contains complete user rating data from IMDb and in addition to the rating it contains additional information about the movie titles and actors. The table about the directors and writers for every movie will be left out due to reducing the scope of the project. The information selected is considered relevant enough to get useful results for the movie company.\n",
    "\n",
    "MDb is used as the primary source for this project because of the following reasons: IMDB provides a large movie set that is open to all users, it has information related to movie ratings, movie genres, actors, directors and writers.\n",
    "Movies on IMDB are exposed to a large number of people. At present, IMDB has about 83 million registered users (IMDB.com). IMDB does not have a complete dataset, it lacks information about movie budget, revenue other important factors. But the information available is considered sufficient for the purpose of this project."
   ]
  },
  {
   "cell_type": "markdown",
   "metadata": {},
   "source": [
    "### 3.2 Datasets/Tables\n",
    "\n",
    "For the analysis four different datasets will be downloaded from IMDb, these are: “Title Basics”, “Title Ratings”, “Name Basics” and “Title Principals”. "
   ]
  },
  {
   "cell_type": "code",
   "execution_count": null,
   "metadata": {},
   "outputs": [],
   "source": [
    "# Run this cell to import the modules and set up some stuff\n",
    "import pandas as pd\n",
    "import matplotlib\n",
    "%matplotlib inline\n",
    "matplotlib.pyplot.rcParams['figure.figsize'] = [10, 6]"
   ]
  },
  {
   "cell_type": "markdown",
   "metadata": {},
   "source": [
    "- “Title Basics” contains basic information related to the movie title and the columns that will be used from this table are “tconst”, “titleType”, “tvepisode”, “primaryTitle”, “startYear”, “runtimeMinutes” and “genres”."
   ]
  },
  {
   "cell_type": "code",
   "execution_count": null,
   "metadata": {},
   "outputs": [],
   "source": [
    "title_basics = pd.read_csv(\n",
    "    \"https://datasets.imdbws.com/title.basics.tsv.gz\", \n",
    "    encoding=\"utf-8\", sep=\"\\t\", \n",
    "    dtype={'tconst': str, 'titleType': str, 'primaryTitle': str, 'originalTitle': str, 'isAdult': int, 'startYear': str, 'endYear': str, 'runtimeMinutes': str, 'genres': str}\n",
    ")"
   ]
  },
  {
   "cell_type": "markdown",
   "metadata": {},
   "source": [
    "- “Name Basics ” contains information about all people working with each movie, but only information about actors will be used. The columns that will be used are “nconst”, “primaryName” and “knownForTitles”."
   ]
  },
  {
   "cell_type": "code",
   "execution_count": null,
   "metadata": {},
   "outputs": [],
   "source": [
    "name_basics = pd.read_csv(\n",
    "    \"https://datasets.imdbws.com/name.basics.tsv.gz\", \n",
    "    encoding=\"utf-8\", sep=\"\\t\", \n",
    "    dtype={'nconst': str, 'primaryName': str, 'birthYear': str, 'deathYear': str, 'primaryProfession': str, 'knownForTitles': str}\n",
    ")"
   ]
  },
  {
   "cell_type": "markdown",
   "metadata": {},
   "source": [
    "- “Title Ratings” contains the actual information about the ratings for each title and the columns that will be used for this table are “tconst”, “averageRating” and “numVotes”."
   ]
  },
  {
   "cell_type": "code",
   "execution_count": null,
   "metadata": {},
   "outputs": [],
   "source": [
    "title_ratings = pd.read_csv(\n",
    "    \"https://datasets.imdbws.com/title.ratings.tsv.gz\", \n",
    "    encoding=\"utf-8\", sep=\"\\t\", \n",
    "    dtype={'tconst': str, 'averageRating': float, 'numVotes': int}\n",
    ")"
   ]
  },
  {
   "cell_type": "markdown",
   "metadata": {},
   "source": [
    "- “Title Principals” contains information about the principal people related to every movie. The columns that will be used are “tconst”, “ordering”, “nconst” and “category”."
   ]
  },
  {
   "cell_type": "code",
   "execution_count": null,
   "metadata": {},
   "outputs": [],
   "source": [
    "title_principals = pd.read_csv(\n",
    "    \"https://datasets.imdbws.com/title.principals.tsv.gz\", \n",
    "    encoding=\"utf-8\", sep=\"\\t\", \n",
    "    dtype={'tconst': str, 'ordering': int, 'nconst': str, 'category': str, 'job': str, 'characters': str}\n",
    ")"
   ]
  },
  {
   "cell_type": "markdown",
   "metadata": {},
   "source": [
    "- “Title crew” contains information about the writers and directors of a movie. The columns that will be used are “tconst”, “directors” and “writers”."
   ]
  },
  {
   "cell_type": "code",
   "execution_count": null,
   "metadata": {},
   "outputs": [],
   "source": [
    "title_crew = pd.read_csv(\n",
    "    \"https://datasets.imdbws.com/title.crew.tsv.gz\", \n",
    "    encoding=\"utf-8\", sep=\"\\t\", \n",
    "    dtype={'tconst': str, 'directors': str, 'writers': str}\n",
    ")"
   ]
  },
  {
   "cell_type": "markdown",
   "metadata": {},
   "source": [
    "The table below is visualization of the datasets and which columns that will be used and which that will be filtered out. The cells marked in green will be used and the others will be left out. The constants are used for joining the tables together."
   ]
  },
  {
   "cell_type": "markdown",
   "metadata": {},
   "source": [
    "<img src=\"Table of tables.png\">"
   ]
  },
  {
   "cell_type": "markdown",
   "metadata": {},
   "source": [
    "## 3.3 Preprocessing\n",
    "\n",
    "### 3.3.1 Initial filtering"
   ]
  },
  {
   "cell_type": "markdown",
   "metadata": {},
   "source": [
    "We filter out only the relevant columns in each table below:"
   ]
  },
  {
   "cell_type": "code",
   "execution_count": null,
   "metadata": {
    "scrolled": true
   },
   "outputs": [],
   "source": [
    "name_basics = name_basics[['nconst', 'primaryName', 'knownForTitles']]\n",
    "title_basics = title_basics[['tconst', 'titleType', 'primaryTitle', \n",
    "                             'startYear', 'runtimeMinutes', 'genres']]\n",
    "title_principals = title_principals[['tconst', 'ordering', 'nconst', 'category']]"
   ]
  },
  {
   "cell_type": "markdown",
   "metadata": {},
   "source": [
    "We filter out only the movies from the year 2000 and until 2017:"
   ]
  },
  {
   "cell_type": "code",
   "execution_count": null,
   "metadata": {
    "scrolled": true
   },
   "outputs": [],
   "source": [
    "title_basics_filtered = title_basics.loc[title_basics['titleType'] == \"movie\"]\n",
    "title_basics_filtered = title_basics_filtered.loc[title_basics_filtered['startYear'] >= \"2000\"]\n",
    "title_basics_filtered = title_basics_filtered.loc[title_basics_filtered['startYear'] <= \"2017\"]\n",
    "title_basics_filtered = title_basics_filtered[['tconst', 'primaryTitle', \n",
    "                             'startYear', 'runtimeMinutes', 'genres']]\n",
    "title_basics_filtered"
   ]
  },
  {
   "cell_type": "markdown",
   "metadata": {},
   "source": [
    "We filter out all ratings with less than 1000 votes and with an average rating above 8:"
   ]
  },
  {
   "cell_type": "code",
   "execution_count": null,
   "metadata": {
    "scrolled": true
   },
   "outputs": [],
   "source": [
    "title_ratings_filtered = title_ratings.loc[title_ratings['numVotes'] >= 1000]\n",
    "title_ratings_filtered = title_ratings_filtered.loc[title_ratings_filtered['averageRating'] >= 8.0]\n",
    "title_ratings_filtered"
   ]
  },
  {
   "cell_type": "code",
   "execution_count": null,
   "metadata": {
    "scrolled": true
   },
   "outputs": [],
   "source": [
    "movies_ratings = pd.merge(title_basics_filtered, title_ratings_filtered, on='tconst')\n",
    "movies_ratings"
   ]
  },
  {
   "cell_type": "code",
   "execution_count": null,
   "metadata": {},
   "outputs": [],
   "source": [
    "movies_ratings_crew = pd.merge(movies_ratings, title_crew, on='tconst')\n",
    "movies_ratings_crew"
   ]
  },
  {
   "cell_type": "markdown",
   "metadata": {},
   "source": [
    "## 4. Data analysis\n",
    "\n",
    "*Document you choice and motivation for selected data mining method(s) here. Choose a data mining method(s) to use in Python code to perform an analysis of your chosen dataset. Describe why you chose the method(s) and what interesting things you have found from the analysis.*\n",
    "\n",
    "The method chosen for this analysis is classification and the technique used is the decision tree classifier. A decision tree is a methodology to reach a final conclusion by taking a complex decision and divide it into easier decisions (Safian, Landgrebe, 1991). By asking questions about the attributes, and then supplementary questions, in a hierarchical way, a decision or conclusion will finally be reached (Steinbach Kumar, 2014). A tree has three types of nodes, root node, internal nodes and leafs (2014).  When asking questions and receiving answers a path will follow the nodes until a leaf is reached and that is where the final decision or conclusion is being made (2014).\n",
    "\n",
    " Hunts algorithm?\n",
    "\n",
    "This technique will enable the possibilities to do a prediction if a movie will get high rating or not by asking questions and following the nodes to see whether the movie fulfils all the criteria to become a highly rated movie. "
   ]
  },
  {
   "cell_type": "code",
   "execution_count": null,
   "metadata": {},
   "outputs": [],
   "source": [
    "import collections\n",
    "most_popular_directors = collections.Counter(movies_ratings_crew[\"directors\"]).most_common()\n",
    "most_popular_directors = pd.DataFrame(list(most_popular_directors))\n",
    "most_popular_directors.columns = [\"nconst\", \"No. of movies\"]\n",
    "most_popular_directors"
   ]
  },
  {
   "cell_type": "code",
   "execution_count": null,
   "metadata": {},
   "outputs": [],
   "source": [
    "most_popular_directors = pd.merge(most_popular_directors, name_basics, on='nconst')\n",
    "most_popular_directors[['No. of movies', 'primaryName']]"
   ]
  },
  {
   "cell_type": "markdown",
   "metadata": {},
   "source": [
    "## 5. Evaluation of results\n",
    "\n",
    "*Document an evaluation your analysis results and describe how potentially actionable they are.*"
   ]
  },
  {
   "cell_type": "code",
   "execution_count": null,
   "metadata": {},
   "outputs": [],
   "source": [
    "# Add your own code"
   ]
  },
  {
   "cell_type": "markdown",
   "metadata": {},
   "source": [
    "## 6. Schedule and description of project plan\n",
    "\n",
    "*Rough schedule for the project beyond the pilot study presented in 3-5. This does not have to be advanced, you can simply provide an estimate based upon reported schedules for similar projects in the literature.*\n",
    "\n",
    "The project plan for this project is based on the CRISP-DM model, showing the steps for best practice in data mining."
   ]
  },
  {
   "cell_type": "markdown",
   "metadata": {},
   "source": [
    "<img src=\"CRISP-DM.png\">\n",
    "\n",
    "*Figure 1: Phases of the CRISP-DM reference model*"
   ]
  },
  {
   "cell_type": "markdown",
   "metadata": {},
   "source": [
    "**Business Understanding**\n",
    "\n",
    "The first step of CRISP is to get an understanding of the business, the organisation and the environment.  In this case it is about to get an understanding of the movie production business and to see what criterias that can be considered as a successful movies. What factors  that will be considered as a successful data mining result should also be decided in this step. \n",
    "\n",
    "We have an idea of what results we want to get and how to get it, what will take most of the time, in this step, is to learn more about the business. Therefore, the estimated time for this will be XX (% / hours).\n",
    "\n",
    "\n",
    "**Data Understanding**\n",
    "\n",
    "In this step the data should be collected, described, verified and initially analysed. The data understanding is included in stage 3 of this report where the datasets from IMDb are collected, then described in terms of data types and visualised in a table. \n",
    "\n",
    "\n",
    "The collection of the data will not take much time since all of the datasets are retrieved from the same webpage. What will be more time-consuming in this step is to describe it and to get an understanding of what information we could get out of the datasets. The estimated time for this will be XX hours (% of the project). \n",
    "\n",
    "\n",
    "**Data Preparation**\n",
    "The preparation involves the selection of data. Why certain data of the datasets is selected is motivated at the beginning of the report. The data sets are based on a relational database and therefore a part of the preparation is to merge the datasets together so it is possible to select the wanted data from it since we do not want everything that is in all of the sets. All the movies that are missing any important data will also be removed.\n",
    "\n",
    "Even though the data is relatively clean from the beginning we do have to do quite a lot with it to make it useful for this project. We estimate that this will be quite time consuming and will take about XX % / hours. \n",
    "\n",
    "**Modeling**\n",
    "\n",
    "Based on the data that was selected in the preparation step and the desired result, a data mining method should be chosen, and then the model should be built. In this project a decision tree will be created and based on our previous experience this will take about XX of the time.\n",
    "\n",
    "**Evaluation** \n",
    "\n",
    "This is about evaluating the results from the data mining. How well it succeeded in relation to the success criterias that were decided earlier.We believe that this will not be taking so long since it should be relatively easy to see if we get at good result or not. The estimated time for this will be XX.\n",
    "\n",
    "**Deployment**\n",
    "\n",
    "A plan for the deployment should be created as well as a plan for maintenance. This plan will vary depending on the results of this project. The documentation will be in progress throughout this project and finished when the results from the data mining is reached. \n",
    "\n",
    "This is estimated to take XX"
   ]
  },
  {
   "cell_type": "markdown",
   "metadata": {},
   "source": [
    "## 7. Ethical aspects that need to be considered\n",
    "\n",
    "*Are there ethical aspects that need to be considered? Are there legal implications (e.g., personal data / GDPR)? Are there implications if the case organization is a business, public authority, or nonprofit entity?*\n",
    "\n",
    "Since this report is analysing the data from movies, it is not necessary to consider any ethical aspects when it comes to personal information etc, since this is about public movies and data that we have collected from IMDb. \n",
    "\n",
    "However, one ethical perspective could be the that this type of analysis might hamper the creativity in the creation of movies. If movies are created from an algorithm based on earlier movies this could obstruct the production of new movies. \t"
   ]
  },
  {
   "cell_type": "markdown",
   "metadata": {},
   "source": [
    "## References\n",
    "\n",
    "Craig Batty (2015) *A screenwriter's journey into theme, and how creative writing research might help us to define screen production research*, Studies in Australasian Cinema, 9:2, pp. 110-121\n",
    "\n",
    "imdb.com (-), *Press Room*. Available: https://www.imdb.com/pressroom/about/ [2018-11-19]\n",
    "\n",
    "imdb.com (2018), [online] Available at: https://datasets.imdbws.com/ [Accessed 22 Nov. 2018].\n",
    "\n",
    "Meenakshi, K., Maragatham, G., Agarwal, N. and Ghosh, I. (2018). *A Data mining Technique for Analyzing and Predicting the success of Movie*. Journal of Physics: Conference Series, 1000, p.012100.\n",
    "\n",
    "Oliver, M. B. & Hartman, T. (2010). *Exploring the Role of Meaningful Experiences in Users' Appreciation of “Good Movies”*. Berghahn Journals,Vol. 4, Issue 2, pp 128–150\n",
    "Rasoul Safavian, S., Landgrebe, D. (1991), Transactions on Systems, Man and Cybernetics, vol. 21, NO. 3, pp. 360-674. \n",
    "\n",
    "Sharda, R. and Delen, D. (2006). *Predicting box-office success of motion pictures with neural networks*. Expert Systems with Applications 30. Stillwater, Oklahoma, pp.243–254.\n",
    "\n",
    "\n",
    "Tan P-N., Steinbach, M., Kumar,V. (2014), *Introduction to Data Mining*, 1st ed, 7th ed., Harlow: Pearson\n",
    "\n",
    "Valenti, J. (1978). *Motion Pictures and Their Impact on Society in the Year\n",
    "2001*, speech given at the Midwest Research Institute, Kansas City,\n",
    "April 25, p. 3.\n",
    "\n",
    "Wu, X., Zhu, X., Wu, G. and Ding, W. (2014). *Data Mining with Big Data*. Transactions on knowledge and data engineering. IEEE, pp. 97-107.\n",
    "\n",
    "\n"
   ]
  },
  {
   "cell_type": "code",
   "execution_count": null,
   "metadata": {},
   "outputs": [],
   "source": []
  }
 ],
 "metadata": {
  "kernelspec": {
   "display_name": "Python 3",
   "language": "python",
   "name": "python3"
  },
  "language_info": {
   "codemirror_mode": {
    "name": "ipython",
    "version": 3
   },
   "file_extension": ".py",
   "mimetype": "text/x-python",
   "name": "python",
   "nbconvert_exporter": "python",
   "pygments_lexer": "ipython3",
   "version": "3.6.5"
  }
 },
 "nbformat": 4,
 "nbformat_minor": 2
}
