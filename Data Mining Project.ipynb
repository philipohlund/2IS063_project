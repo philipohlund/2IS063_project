{
 "cells": [
  {
   "cell_type": "code",
   "execution_count": null,
   "metadata": {},
   "outputs": [],
   "source": [
    "# Run this cell to import the modules and set up some stuff\n",
    "import pandas as pd\n",
    "import matplotlib\n",
    "%matplotlib inline\n",
    "matplotlib.pyplot.rcParams['figure.figsize'] = [10, 6]\n",
    "import warnings\n",
    "warnings.filterwarnings('ignore')\n",
    "import collections\n",
    "from sklearn.model_selection import train_test_split\n",
    "from sklearn.tree import DecisionTreeClassifier\n",
    "from graphviz import Source\n",
    "from sklearn import tree\n",
    "from sklearn.metrics import accuracy_score\n",
    "import numpy as np"
   ]
  },
  {
   "cell_type": "markdown",
   "metadata": {},
   "source": [
    "# Group 1 - Data Mining and Data Science project\n",
    "\n",
    "By Farhad Rezai, Linus Huzell, Saga Rudolphi, Philip Öhlund. Submitted on 28 nov. 2018."
   ]
  },
  {
   "cell_type": "markdown",
   "metadata": {},
   "source": [
    "## 1. Background\n",
    "\n",
    "The organisation chosen for this project is a fictional movie production company in the film industry that is creating and directing new movies. The typical working process for the company is as follow. They choose a work, or an idea, and get the full rights to it. Then they put the crew together, consisting of writer, director and actors. When all this is done they reach out to investors to get the money needed to produce the film. Then they create the film and sell it to theatres and resellers.\n",
    "\n",
    "In recent years, the company has not used any specific strategy for movie production. They have tried to guess what kind of movies people like and from that invested huge financial capital in the production. Then they have put the crew together without making any major analysis in advance. This strategy has only managed to produce a few successful movies, but the majority of all produced films are at a loss. The company has repeatedly tried to find a pattern for those movies that are profitable and sell well but has not succeeded yet. Eventually, they came to a point where they realised that their current strategy is not working well enough. If they continue as they do, they risk being bankrupt in the near future. Their next movie could be crucial for the company's survival.\n",
    "\n",
    "One of the factors that may increase the chance of a movie to be successful is that it has high ratings on IMDb. Many film companies use IMDB to find best-selling movies, therefore, high rated movies have a greater chance of generating profits (Meenakshi et al., 2018). As a consequence, the company's primary goal is to get the best possible rating on their movies on IMDb. "
   ]
  },
  {
   "cell_type": "markdown",
   "metadata": {},
   "source": [
    "## 2. Problem description\n",
    "\n",
    "### 2.1 Problem description\n",
    "\n",
    "The company has released several movies but none of them has been particularly successful. For their next movie, the aim is to make a bestseller, or at least more profitable, to get the company back on track again. This time they want to make an analysis of what factors they should take into account before starting the creation process of the movie. They want to find out what is most important to allocate their financial resources too, to optimise and improve the success rate of the film. This in turn to increase the monetary results of the film and reach their goal. \n",
    "\n",
    "It is difficult to say what aspects of a movie that are the most crucial factors of defining a movie as good (Oliver and Hartman, 2010). In addition to this, as Sharda and Delen (2006) explain that it is also very difficult to predict the demand for a movie in advance. Therefore this makes the movie business one of the riskiest endeavours for investors. There are even people claiming that it is not possible to predict how a movie is going to do in the marketplace (Sharda and Delen, 2006). As Jack Valenti, the former president of Motion Picture Association of America once said: “Excellence is a fragile substance and movie making is a collaboration of talent, which is why it is hard to make and buy great films.”  (Valenti, 1978). He is entitled that talent is required for making a good movie, as movies are subject to subjective judgment by the viewers (1978). However, with the help of new technologies and methods, it could be possible to “hack” the normal way of producing movies to increase the chances of being successful (1978).\n",
    "\n",
    "This project will look into if it is possible to, through data mining, do an analysis of the data of movies available at IMDb. They are, the length of the movie, actors, writer and director. Then, based on these, see if there are any factors that can increase the chances of producing a highly rated movie. \n",
    "\n",
    "### 2.2 Research questions\n",
    "\t\n",
    "Based on the above this report will answer the following question:\n",
    "\n",
    "*What factors have the biggest impact on the success of a movie at IMDb?*\n",
    "\n",
    "### 2.3 Hypothesis\n",
    "\n",
    "To answer the question being asked, this research will look at factors that are believed to play a great role if the movie will get a high grade from the people watching it or not. The hypothesis is based on the data available through IMDb. The factors that will be analysed is the movie’s running time, the actors in it, the writer and the director.\n",
    "\n",
    "#### Running time\n",
    "It is not certain if previous researches have included a movie’s running time as a success factor for a movie. However, this could be interesting to look at. It is not impossible to think that the length has some impact on the viewers. Perhaps a too long movie will make the audience lose their concentration, or if it is too short they do not have time to fully get into the movie. \n",
    "\n",
    "#### Writers\n",
    "The writers often, in comparison to actors and directors, tend to be quite anonymous in relation to their films. And as Batty (2015) describes, there is a lack of screen production research which means that this area may contain gaps. Nevertheless this is an interesting factor to look at in relation to the movie’s success rate, but in the end, we think that writers should not have any significant effect on our result.\n",
    "\n",
    "#### Actors\n",
    "When others have tried to analyse the factors of a movie’s success many of them have looked into the impact of the stars of the movie (Lee et. al, 2016). That is, the actors. Lee et. al (2014) are using a measurement of “star buzz” in their analysis of a successful movie. Since many other surveys of movies are using this as a factor, and even though it has shown a mixed result, it seems like a factor that should be considered. It is also not difficult to imagine that a movie with a popular actor with many fans gets high rated just because the actor is acting in it. \n",
    "\n",
    "#### Director\n",
    "The director of the movie is likely to have an impact on the success rate. Parkeh and Biswas (2015) are analysing the factors that have the most impact on movies in certain genres. Their results show that in all of the six genres, the directing is one of the driving factors. Therefore this factor will be used in this report as well. The difference in this research is that the aim is to find the names of the directors that often create successful movies. "
   ]
  },
  {
   "cell_type": "markdown",
   "metadata": {},
   "source": [
    "## 3. Data collection\n",
    "\n",
    "### 3.1 Data Collection\n",
    "\n",
    "The data used for the analysis will be user rating data from IMDb. This data is free and can be obtained from IMDB (imdb.com, 2018) with its documentation available at https://www.imdb.com/interfaces/. The datasets contain complete user rating data from IMDb and in addition to the rating, it contains additional information about the movie's writer, director and actors. The information selected is considered relevant enough to get useful results for the movie company.\n",
    "\n",
    "IMDb is used as the primary source for this project because of the following reasons: IMDb provides a large movie set that is open to all users, which has information related to movie ratings, movie genres, actors, directors and writers.\n",
    "Movies on IMDb are exposed to a large number of people. At present, IMDb has about 83 million registered users (IMDb.com). IMDb does not have a complete dataset, it lacks information about movie budget, revenue and other important factors, but the information available is considered sufficient for the purpose of this project."
   ]
  },
  {
   "cell_type": "markdown",
   "metadata": {},
   "source": [
    "### 3.2 Datasets/Tables\n",
    "\n",
    "For the analysis four different datasets will be downloaded from IMDb, these are: “Title Basics”, “Title Ratings”, “Title Principals” and “Title Crew”. Note that it could take a few minutes to load the datasets below."
   ]
  },
  {
   "cell_type": "markdown",
   "metadata": {},
   "source": [
    "- “Title Basics” contains basic information related to the movie title and the columns that will be used from this table are “tconst”, “titleType”, “primaryTitle”, “startYear” and “runtimeMinutes”."
   ]
  },
  {
   "cell_type": "code",
   "execution_count": null,
   "metadata": {},
   "outputs": [],
   "source": [
    "title_basics = pd.read_csv(\n",
    "    \"https://datasets.imdbws.com/title.basics.tsv.gz\", \n",
    "    encoding=\"utf-8\", sep=\"\\t\", \n",
    "    dtype={'tconst': str, 'titleType': str, 'primaryTitle': str, 'originalTitle': str, 'isAdult': int, 'startYear': str, 'endYear': str, 'runtimeMinutes': str, 'genres': str}\n",
    ")"
   ]
  },
  {
   "cell_type": "markdown",
   "metadata": {},
   "source": [
    "- “Title Ratings” contains the actual information about the ratings for each title and the columns that will be used for this table are “tconst”, “averageRating” and “numVotes”."
   ]
  },
  {
   "cell_type": "code",
   "execution_count": null,
   "metadata": {},
   "outputs": [],
   "source": [
    "title_ratings = pd.read_csv(\n",
    "    \"https://datasets.imdbws.com/title.ratings.tsv.gz\", \n",
    "    encoding=\"utf-8\", sep=\"\\t\", \n",
    "    dtype={'tconst': str, 'averageRating': float, 'numVotes': int}\n",
    ")"
   ]
  },
  {
   "cell_type": "markdown",
   "metadata": {},
   "source": [
    "- “Title Principals” contains information about the principal people related to every movie. The columns that will be used are “tconst”, “ordering”, “nconst” and “category”."
   ]
  },
  {
   "cell_type": "code",
   "execution_count": null,
   "metadata": {},
   "outputs": [],
   "source": [
    "title_principals = pd.read_csv(\n",
    "    \"https://datasets.imdbws.com/title.principals.tsv.gz\", \n",
    "    encoding=\"utf-8\", sep=\"\\t\", \n",
    "    dtype={'tconst': str, 'ordering': int, 'nconst': str, 'category': str, 'job': str, 'characters': str}\n",
    ")"
   ]
  },
  {
   "cell_type": "markdown",
   "metadata": {},
   "source": [
    "- “Title Crew” contains information about the writers and directors of a movie. The columns that will be used are “tconst”, “directors” and “writers”."
   ]
  },
  {
   "cell_type": "code",
   "execution_count": null,
   "metadata": {},
   "outputs": [],
   "source": [
    "title_crew = pd.read_csv(\n",
    "    \"https://datasets.imdbws.com/title.crew.tsv.gz\", \n",
    "    encoding=\"utf-8\", sep=\"\\t\", \n",
    "    dtype={'tconst': str, 'directors': str, 'writers': str}\n",
    ")"
   ]
  },
  {
   "cell_type": "markdown",
   "metadata": {},
   "source": [
    "### 3.3 Data dictionary\n",
    "\n",
    "- `tconst` - Alphanumeric unique identifier of the title\n",
    "- `titleType` - The type/format of the title (e.g. movie, short, tvseries etc)\n",
    "- `primaryTitle` - The more popular title / the title used by the filmmakers on promotional materials at the point of release\n",
    "- `startYear` - Represents the release year of a title\n",
    "- `runtimeMinutes` - Total minutes of the movie’s runtime\n",
    "- `averageRating` - Weighted average of all the individual user ratings\n",
    "- `numVotes` - Number of votes the title has received\n",
    "- `ordering` - Order of the related cast/crew for a movie\n",
    "- `nconst` - Alphanumeric unique identifier of the name/person\n",
    "- `category` - The category of job the person was in (e.g. \"actor\" or \"actress\")\n",
    "- `successful` - Whether the movie is successful or not (0 = No, 1 = Yes)\n",
    "- `actor1` - Name of the first actor in the ordering of a given title\n",
    "- `actor2` - Name of the second actor in the ordering of a given title\n",
    "- `directors` - Name of the director in the ordering of a given title\n",
    "- `writers` - Name of the writer in the ordering of a given title"
   ]
  },
  {
   "cell_type": "markdown",
   "metadata": {},
   "source": [
    "### 3.4 Preprocessing\n",
    "\n",
    "Since the datasets are very big, an initial filtering needs to be done to get only the information that is relevant. The movie company wants to create a modern movie, therefore movies made before 2000 will be left out. We made an assessment not to include movies with less than 1000 votes to give a fair review. This creates a new dataset that still contains much data but only relevant data that is easier to handle. We are also adding an additional attribute, called \"successful\". Finally, we remove all null values.\n",
    "\n",
    "First we only keep the relevant columns:"
   ]
  },
  {
   "cell_type": "code",
   "execution_count": null,
   "metadata": {},
   "outputs": [],
   "source": [
    "title_basics = title_basics[['tconst', 'titleType', 'primaryTitle', \n",
    "                             'startYear', 'runtimeMinutes', 'genres']]\n",
    "title_principals = title_principals[['tconst', 'ordering', 'nconst', 'category']]"
   ]
  },
  {
   "cell_type": "markdown",
   "metadata": {},
   "source": [
    "We filter out only the movies from the year 2000 and until 2017 and keep them (the output shows the first 5 rows of the table):"
   ]
  },
  {
   "cell_type": "code",
   "execution_count": null,
   "metadata": {},
   "outputs": [],
   "source": [
    "title_basics_filtered = title_basics[title_basics.titleType == \"movie\"]\n",
    "title_basics_filtered = title_basics_filtered[title_basics_filtered.startYear >= \"2000\"]\n",
    "title_basics_filtered = title_basics_filtered[title_basics_filtered.startYear <= \"2017\"]\n",
    "title_basics_filtered = title_basics_filtered[['tconst', 'primaryTitle', \n",
    "                             'startYear', 'runtimeMinutes', 'genres']]\n",
    "title_basics_filtered.head()"
   ]
  },
  {
   "cell_type": "markdown",
   "metadata": {},
   "source": [
    "We filter out all ratings with at least 1000 votes:"
   ]
  },
  {
   "cell_type": "code",
   "execution_count": null,
   "metadata": {},
   "outputs": [],
   "source": [
    "title_ratings_filtered = title_ratings[title_ratings['numVotes'] >= 1000]\n",
    "title_ratings_filtered.head()"
   ]
  },
  {
   "cell_type": "code",
   "execution_count": null,
   "metadata": {},
   "outputs": [],
   "source": [
    "movies_ratings = pd.merge(title_basics_filtered, title_ratings_filtered, on='tconst')\n",
    "movies_ratings.head()"
   ]
  },
  {
   "cell_type": "code",
   "execution_count": null,
   "metadata": {},
   "outputs": [],
   "source": [
    "movies_ratings_crew = pd.merge(movies_ratings, title_crew, on='tconst')\n",
    "movies_ratings_crew.head()"
   ]
  },
  {
   "cell_type": "markdown",
   "metadata": {},
   "source": [
    "Below we add an attribute for whether the movie is successful. A movie is considered to be successful if the average rating is 7.0 or above. The top 250 movies on IMDb have the rating of 8.0 and therefore we decided that 7.0 was a good limit. \n",
    "\n",
    "`1` means that the movie is successful and `0` means that it is not."
   ]
  },
  {
   "cell_type": "code",
   "execution_count": null,
   "metadata": {},
   "outputs": [],
   "source": [
    "movies_ratings_crew['successful'] = np.where(movies_ratings_crew['averageRating'] >= 7.0, 1, 0)\n",
    "movies_ratings_crew.head()"
   ]
  },
  {
   "cell_type": "markdown",
   "metadata": {},
   "source": [
    "Number of successful movies:"
   ]
  },
  {
   "cell_type": "code",
   "execution_count": null,
   "metadata": {},
   "outputs": [],
   "source": [
    "movies_ratings_crew.successful.value_counts()"
   ]
  },
  {
   "cell_type": "markdown",
   "metadata": {},
   "source": [
    "Delete movies without a runtime (note that the number of entries and non-null objects are the same afterwards):"
   ]
  },
  {
   "cell_type": "code",
   "execution_count": null,
   "metadata": {
    "scrolled": true
   },
   "outputs": [],
   "source": [
    "for i, row in movies_ratings_crew.iterrows():\n",
    "    if movies_ratings_crew.at[i,'runtimeMinutes'] == r\"\\N\" or movies_ratings_crew.at[i,'runtimeMinutes'] == r\"\\\\N\":\n",
    "        movies_ratings_crew.at[i,'runtimeMinutes'] = None\n",
    "\n",
    "movies_ratings_crew = movies_ratings_crew.dropna(subset=['runtimeMinutes'])\n",
    "\n",
    "movies_ratings_crew['runtimeMinutes'] = movies_ratings_crew['runtimeMinutes'].astype(int)\n",
    "movies_ratings_crew.info()"
   ]
  },
  {
   "cell_type": "markdown",
   "metadata": {},
   "source": [
    "Delete movies without directors or writers (null values):"
   ]
  },
  {
   "cell_type": "code",
   "execution_count": null,
   "metadata": {},
   "outputs": [],
   "source": [
    "movies_ratings_crew['directors'] = movies_ratings_crew['directors'].replace(r'\\N', np.nan)\n",
    "movies_ratings_crew = movies_ratings_crew.dropna(axis=0, subset=['directors'])\n",
    "\n",
    "movies_ratings_crew['writers'] = movies_ratings_crew['writers'].replace(r'\\N', np.nan)\n",
    "movies_ratings_crew = movies_ratings_crew.dropna(axis=0, subset=['writers'])\n",
    "\n",
    "movies_ratings_crew.info()"
   ]
  },
  {
   "cell_type": "markdown",
   "metadata": {},
   "source": [
    "Get only the first director and writer:"
   ]
  },
  {
   "cell_type": "code",
   "execution_count": null,
   "metadata": {},
   "outputs": [],
   "source": [
    "for i, row in movies_ratings_crew.iterrows():\n",
    "      movies_ratings_crew.at[i,'directors'] = movies_ratings_crew.at[i,'directors'].split(',')[0]"
   ]
  },
  {
   "cell_type": "code",
   "execution_count": null,
   "metadata": {},
   "outputs": [],
   "source": [
    "for i, row in movies_ratings_crew.iterrows():\n",
    "      movies_ratings_crew.at[i,'writers'] = movies_ratings_crew.at[i,'writers'].split(',')[0]"
   ]
  },
  {
   "cell_type": "code",
   "execution_count": null,
   "metadata": {},
   "outputs": [],
   "source": [
    "movies_ratings_crew.head()"
   ]
  },
  {
   "cell_type": "markdown",
   "metadata": {},
   "source": [
    "Most movies have multiple actors so to make everything manageable, we have chosen to have the top two actors for each movie:"
   ]
  },
  {
   "cell_type": "code",
   "execution_count": null,
   "metadata": {},
   "outputs": [],
   "source": [
    "#Get actor 1\n",
    "title_principals_filtered = title_principals[(title_principals.category == \"actor\") | (title_principals.category == \"actress\")]\n",
    "title_principals_filtered = title_principals_filtered[title_principals_filtered.ordering == 1]\n",
    "title_principals_filtered = title_principals_filtered[title_principals_filtered['tconst'].isin(movies_ratings_crew['tconst'])]\n",
    "title_principals_filtered = title_principals_filtered[['tconst', 'nconst']]\n",
    "\n",
    "movies_ratings_crew_actors = pd.merge(movies_ratings_crew, title_principals_filtered, on='tconst')\n",
    "movies_ratings_crew_actors = movies_ratings_crew_actors.rename(columns={'nconst': 'actor1'})\n",
    "movies_ratings_crew_actors.head()"
   ]
  },
  {
   "cell_type": "code",
   "execution_count": null,
   "metadata": {},
   "outputs": [],
   "source": [
    "#Get actor 2\n",
    "title_principals_filtered = title_principals[(title_principals.category == \"actor\") | (title_principals.category == \"actress\")]\n",
    "title_principals_filtered = title_principals_filtered[title_principals_filtered.ordering == 2]\n",
    "title_principals_filtered = title_principals_filtered[title_principals_filtered['tconst'].isin(movies_ratings_crew['tconst'])]\n",
    "title_principals_filtered = title_principals_filtered[['tconst', 'nconst']]\n",
    "\n",
    "movies_ratings_crew_actors = pd.merge(movies_ratings_crew_actors, title_principals_filtered, on='tconst')\n",
    "movies_ratings_crew_actors = movies_ratings_crew_actors.rename(columns={'nconst': 'actor2'})\n",
    "movies_ratings_crew_actors.head()"
   ]
  },
  {
   "cell_type": "markdown",
   "metadata": {},
   "source": [
    "Then we create a table of only successful movies:"
   ]
  },
  {
   "cell_type": "code",
   "execution_count": null,
   "metadata": {
    "scrolled": false
   },
   "outputs": [],
   "source": [
    "successful_movies = movies_ratings_crew_actors[movies_ratings_crew_actors.successful == 1]\n",
    "successful_movies.head()"
   ]
  },
  {
   "cell_type": "markdown",
   "metadata": {},
   "source": [
    "## 4. Method and data analysis\n",
    "### 4.1 Method\n",
    "\n",
    "The method chosen for this analysis is classification and the technique used is the decision tree classifier. A decision tree is a methodology to reach a final conclusion by taking a complex decision and divide it into easier decisions (Safian, Landgrebe, 1991). By asking questions about the attributes, and then supplementary questions, in a hierarchical way, a decision or conclusion will finally be reached (Steinbach Kumar, 2014). A tree has three types of nodes, root node, internal nodes and leafs (2014). When asking questions and receiving answers a path will follow the nodes until a leaf is reached and that is where the final decision or conclusion is being made (2014).\n",
    "\n",
    "This technique will enable the possibilities to do a prediction if a movie will get a high rating or not by asking questions and following the nodes to see whether the movie fulfils all the criteria to become a highly rated movie. "
   ]
  },
  {
   "cell_type": "markdown",
   "metadata": {},
   "source": [
    "### 4.2 Analysis\n",
    "#### Actors\n",
    "\n",
    "In this section the actors will be rated based on the number of successful movies they have participated in and their total number of movies.\n",
    "\n",
    "Counts all actors that participated in at least one movie:"
   ]
  },
  {
   "cell_type": "code",
   "execution_count": null,
   "metadata": {
    "scrolled": true
   },
   "outputs": [],
   "source": [
    "actors = pd.concat([movies_ratings_crew_actors['actor1'], movies_ratings_crew_actors['actor2']])\n",
    "actors = actors.value_counts().reset_index()\n",
    "actors.columns = ['actors', 'movies']\n",
    "actors.head()"
   ]
  },
  {
   "cell_type": "markdown",
   "metadata": {},
   "source": [
    "Creates a table of successful actors and merge with all the actors. Also fills null values with 0:"
   ]
  },
  {
   "cell_type": "code",
   "execution_count": null,
   "metadata": {},
   "outputs": [],
   "source": [
    "successful_actors = pd.concat([successful_movies['actor1'], successful_movies['actor2']])\n",
    "successful_actors = successful_actors.value_counts().reset_index()\n",
    "successful_actors.columns = ['actors', 'successfulMovies']\n",
    "actors = pd.merge(actors, successful_actors, on='actors', how='outer')\n",
    "actors.fillna(value=0, inplace=True)"
   ]
  },
  {
   "cell_type": "markdown",
   "metadata": {},
   "source": [
    "Calculating success rate for each actor (meaning number of successful movies devided by all movies):"
   ]
  },
  {
   "cell_type": "code",
   "execution_count": null,
   "metadata": {
    "scrolled": true
   },
   "outputs": [],
   "source": [
    "for i, row in actors.iterrows():\n",
    "    actors.at[i, 'successRate'] = actors.at[i, 'successfulMovies'] / actors.at[i, 'movies']\n",
    "    \n",
    "actors.sort_values(by='successRate', ascending=0)"
   ]
  },
  {
   "cell_type": "markdown",
   "metadata": {},
   "source": [
    "We noticed alot of actors with only one movie and with a success rate of 100% (1.0):"
   ]
  },
  {
   "cell_type": "code",
   "execution_count": null,
   "metadata": {},
   "outputs": [],
   "source": [
    "actors[actors.movies == 1].successRate.value_counts()"
   ]
  },
  {
   "cell_type": "markdown",
   "metadata": {},
   "source": [
    "We therefore only use actors with at least two movies:"
   ]
  },
  {
   "cell_type": "code",
   "execution_count": null,
   "metadata": {
    "scrolled": true
   },
   "outputs": [],
   "source": [
    "actors = actors[actors.movies >= 2]\n",
    "actors.sort_values(by='successRate', ascending=0)"
   ]
  },
  {
   "cell_type": "markdown",
   "metadata": {},
   "source": [
    "We can now see that the number of actors with a success rate of 100% has decreased:"
   ]
  },
  {
   "cell_type": "code",
   "execution_count": null,
   "metadata": {},
   "outputs": [],
   "source": [
    "actors.successRate.value_counts().head(3)"
   ]
  },
  {
   "cell_type": "markdown",
   "metadata": {},
   "source": [
    "#### Directors\n",
    "\n",
    "In this section the directors will be rated based on the number of successful movies they have directed and their total number of movies.\n",
    "\n",
    "Counts all the directors in at least one of the movies:"
   ]
  },
  {
   "cell_type": "code",
   "execution_count": null,
   "metadata": {},
   "outputs": [],
   "source": [
    "directors = collections.Counter(movies_ratings_crew_actors[\"directors\"]).most_common()\n",
    "directors = pd.DataFrame(list(directors))\n",
    "directors.columns = [\"directors\", \"movies\"]\n",
    "directors.head()"
   ]
  },
  {
   "cell_type": "markdown",
   "metadata": {},
   "source": [
    "Creates a table of successful directors and merge with all the directors. Also fills null values with 0:"
   ]
  },
  {
   "cell_type": "code",
   "execution_count": null,
   "metadata": {},
   "outputs": [],
   "source": [
    "successful_directors = successful_movies['directors']\n",
    "successful_directors = successful_directors.value_counts().reset_index()\n",
    "successful_directors.columns = ['directors', 'successfulMovies']\n",
    "directors = pd.merge(directors, successful_directors, on='directors', how='outer')\n",
    "directors.fillna(value=0, inplace=True)"
   ]
  },
  {
   "cell_type": "markdown",
   "metadata": {},
   "source": [
    "Calculating success rate for each director (meaning number of successful movies devided by all movies):"
   ]
  },
  {
   "cell_type": "code",
   "execution_count": null,
   "metadata": {
    "scrolled": true
   },
   "outputs": [],
   "source": [
    "for i, row in directors.iterrows():\n",
    "    directors.at[i, 'directorRate'] = directors.at[i, 'successfulMovies'] / directors.at[i, 'movies']\n",
    "\n",
    "directors.sort_values(by='directorRate', ascending=0)"
   ]
  },
  {
   "cell_type": "markdown",
   "metadata": {},
   "source": [
    "We noticed that many directors only had one movie. This causes a bigger chance of a success rate of 100%:"
   ]
  },
  {
   "cell_type": "code",
   "execution_count": null,
   "metadata": {},
   "outputs": [],
   "source": [
    "directors[directors.movies == 1].directorRate.value_counts()"
   ]
  },
  {
   "cell_type": "markdown",
   "metadata": {},
   "source": [
    "We therefore only use directors with at least two movies:"
   ]
  },
  {
   "cell_type": "code",
   "execution_count": null,
   "metadata": {
    "scrolled": true
   },
   "outputs": [],
   "source": [
    "directors = directors[directors.movies >= 2]\n",
    "directors.sort_values(by='directorRate', ascending=0)"
   ]
  },
  {
   "cell_type": "markdown",
   "metadata": {},
   "source": [
    "We can now see that the number of directors with a success rate of 100% has decreased:"
   ]
  },
  {
   "cell_type": "code",
   "execution_count": null,
   "metadata": {},
   "outputs": [],
   "source": [
    "directors.directorRate.value_counts().head(3)"
   ]
  },
  {
   "cell_type": "markdown",
   "metadata": {},
   "source": [
    "#### Writers\n",
    "\n",
    "In this section the writers will be rated based on the number of successful movies they have directed and their total number of movies.\n",
    "\n",
    "Counts all the writers in at least one of the movies:"
   ]
  },
  {
   "cell_type": "code",
   "execution_count": null,
   "metadata": {},
   "outputs": [],
   "source": [
    "writers = collections.Counter(movies_ratings_crew_actors[\"writers\"]).most_common()\n",
    "writers = pd.DataFrame(list(writers))\n",
    "writers.columns = [\"writers\", \"movies\"]\n",
    "writers.head()"
   ]
  },
  {
   "cell_type": "markdown",
   "metadata": {},
   "source": [
    "Creates a table of successful writers and merge with all the writers. Also fills null values with 0:"
   ]
  },
  {
   "cell_type": "code",
   "execution_count": null,
   "metadata": {},
   "outputs": [],
   "source": [
    "successful_writers = successful_movies['writers']\n",
    "successful_writers = successful_writers.value_counts().reset_index()\n",
    "successful_writers.columns = ['writers', 'successfulMovies']\n",
    "writers = pd.merge(writers, successful_writers, on='writers', how='outer')\n",
    "writers.fillna(value=0, inplace=True)"
   ]
  },
  {
   "cell_type": "markdown",
   "metadata": {},
   "source": [
    "Calculating success rate for each writer (meaning number of successful movies devided by all movies):"
   ]
  },
  {
   "cell_type": "code",
   "execution_count": null,
   "metadata": {
    "scrolled": true
   },
   "outputs": [],
   "source": [
    "for i, row in writers.iterrows():\n",
    "    writers.at[i, 'writerRate'] = writers.at[i, 'successfulMovies'] / writers.at[i, 'movies']\n",
    "\n",
    "writers.sort_values(by='writerRate', ascending=0)"
   ]
  },
  {
   "cell_type": "markdown",
   "metadata": {},
   "source": [
    "We noticed that many writers only had one movie. This causes a bigger chance of a success rate of 100%:"
   ]
  },
  {
   "cell_type": "code",
   "execution_count": null,
   "metadata": {},
   "outputs": [],
   "source": [
    "writers[writers.movies == 1].writerRate.value_counts()"
   ]
  },
  {
   "cell_type": "markdown",
   "metadata": {},
   "source": [
    "We therefore only use writers with at least two movies:"
   ]
  },
  {
   "cell_type": "code",
   "execution_count": null,
   "metadata": {
    "scrolled": true
   },
   "outputs": [],
   "source": [
    "writers = writers[writers.movies >= 2]\n",
    "writers.sort_values(by='writerRate', ascending=0)"
   ]
  },
  {
   "cell_type": "markdown",
   "metadata": {},
   "source": [
    "We can now see that the number of writers with a success rate of 100% has decreased:"
   ]
  },
  {
   "cell_type": "code",
   "execution_count": null,
   "metadata": {},
   "outputs": [],
   "source": [
    "writers.writerRate.value_counts().head(3)"
   ]
  },
  {
   "cell_type": "markdown",
   "metadata": {},
   "source": [
    "#### Time\n",
    "\n",
    "Plots out the runtime of the movie and compare it with the average rating to see if there's any relationship:"
   ]
  },
  {
   "cell_type": "code",
   "execution_count": null,
   "metadata": {},
   "outputs": [],
   "source": [
    "movies_ratings_crew_actors.plot.scatter(x='runtimeMinutes', y='averageRating')"
   ]
  },
  {
   "cell_type": "markdown",
   "metadata": {},
   "source": [
    "The graph shows some relation between the movie’s runtime and the rating. It is possible to see that the movies with lower ratings (below 4) have a tendency to be under 100 minutes. However, the relationship seems to be very weak. "
   ]
  },
  {
   "cell_type": "markdown",
   "metadata": {},
   "source": [
    "#### Decision Tree\n",
    "\n",
    "This is our table at the moment:"
   ]
  },
  {
   "cell_type": "code",
   "execution_count": null,
   "metadata": {
    "scrolled": true
   },
   "outputs": [],
   "source": [
    "movies_ratings_crew_actors.head()"
   ]
  },
  {
   "cell_type": "markdown",
   "metadata": {},
   "source": [
    "We merge the rate of all the actors, writers and directors and also calculate an average rate for the actors. After that we only keep the relevant columns:"
   ]
  },
  {
   "cell_type": "code",
   "execution_count": null,
   "metadata": {},
   "outputs": [],
   "source": [
    "df = pd.merge(movies_ratings_crew_actors, directors[['directors', 'directorRate']], on='directors')\n",
    "\n",
    "df = pd.merge(df, writers[['writers', 'writerRate']], on='writers')\n",
    "\n",
    "df = pd.merge(df, actors[['actors', 'successRate']], left_on='actor1', right_on='actors')\n",
    "df = df.rename(columns={'successRate': 'actor1Rate'})\n",
    "\n",
    "df = pd.merge(df, actors[['actors', 'successRate']], left_on='actor2', right_on='actors')\n",
    "df = df.rename(columns={'successRate': 'actor2Rate'})\n",
    "\n",
    "df['actorAvgRate'] = (df['actor1Rate'] + df['actor2Rate']) / 2\n",
    "\n",
    "df = df[['runtimeMinutes', 'successful', 'directorRate', 'writerRate', 'actor1Rate', 'actor2Rate', 'actorAvgRate']]\n",
    "df.head()"
   ]
  },
  {
   "cell_type": "markdown",
   "metadata": {},
   "source": [
    "Splits the data into a training and testing set:"
   ]
  },
  {
   "cell_type": "code",
   "execution_count": null,
   "metadata": {},
   "outputs": [],
   "source": [
    "successful_data = df.successful\n",
    "X_train, X_test, y_train, y_test = train_test_split(df[['runtimeMinutes', 'directorRate', 'writerRate', 'actorAvgRate']], successful_data, test_size=0.25)\n",
    "print(\"Our training data has {} rows\".format(len(X_train)))\n",
    "print(\"Our test data has {} rows\".format(len(X_test)))"
   ]
  },
  {
   "cell_type": "code",
   "execution_count": null,
   "metadata": {},
   "outputs": [],
   "source": [
    "classifier = DecisionTreeClassifier(max_depth=3)\n",
    "classifier.fit(X_train.values, y_train.values)"
   ]
  },
  {
   "cell_type": "markdown",
   "metadata": {},
   "source": [
    "Compares the prediction with the correct answer:"
   ]
  },
  {
   "cell_type": "code",
   "execution_count": null,
   "metadata": {},
   "outputs": [],
   "source": [
    "sample = X_test.head(15)\n",
    "sample['successful'] = classifier.predict(sample)\n",
    "sample = sample.rename(columns={'successful': 'predictSuccessful'})\n",
    "correct = pd.Series(y_test, name='correctSuccessful').head(15)\n",
    "pd.concat([sample, correct], axis=1)"
   ]
  },
  {
   "cell_type": "code",
   "execution_count": null,
   "metadata": {},
   "outputs": [],
   "source": [
    "#Optional code to point at Graphviz on remote desktop-computers:\n",
    "!set PATH=PATH;C:/Program Files (x86)/Graphviz2.38/bin/\n",
    "import os\n",
    "os.environ[\"PATH\"] += os.pathsep + 'C:/Program Files (x86)/Graphviz2.38/bin/'"
   ]
  },
  {
   "cell_type": "code",
   "execution_count": null,
   "metadata": {},
   "outputs": [],
   "source": [
    "#Optional code to be able to export the decision tree:\n",
    "\"\"\"\n",
    "!pip install pydotplus\n",
    "from io import StringIO\n",
    "dotfile = StringIO()\n",
    "\"\"\""
   ]
  },
  {
   "cell_type": "markdown",
   "metadata": {},
   "source": [
    "#### Create the decision tree"
   ]
  },
  {
   "cell_type": "code",
   "execution_count": null,
   "metadata": {},
   "outputs": [],
   "source": [
    "#Replace out_file=None below with out_file=dotfile to be able to export\n",
    "tree_plot = Source(tree.export_graphviz(classifier, out_file=None, \n",
    "                            feature_names=X_train.columns, class_names=['Not successful', 'Successful'], \n",
    "                            filled=True, rounded=True, special_characters=True))\n",
    "tree_plot"
   ]
  },
  {
   "cell_type": "markdown",
   "metadata": {},
   "source": [
    "This decision tree shows that the attributes that have an impact on whether the movie is going to be classified as successful are writers and actors."
   ]
  },
  {
   "cell_type": "code",
   "execution_count": null,
   "metadata": {},
   "outputs": [],
   "source": [
    "#Optional code to export the decision tree:\n",
    "\"\"\"\n",
    "import pydotplus\n",
    "graph = pydotplus.graph_from_dot_data(dotfile.getvalue())\n",
    "graph.write_png(\"dtree.png\")\n",
    "\"\"\""
   ]
  },
  {
   "cell_type": "markdown",
   "metadata": {},
   "source": [
    "Calculates the accuracy score:"
   ]
  },
  {
   "cell_type": "code",
   "execution_count": null,
   "metadata": {},
   "outputs": [],
   "source": [
    "pred = classifier.predict(X_test)\n",
    "true = y_test\n",
    "accuracy_score(true, pred)"
   ]
  },
  {
   "cell_type": "markdown",
   "metadata": {},
   "source": [
    "As shown here, the accuracy score is around 0.80, that is, 80%. This indicates that the decision tree is doing a correct prediction on almost all of the movies (1.0 or 100% is absolutely correct). "
   ]
  },
  {
   "cell_type": "markdown",
   "metadata": {},
   "source": [
    "\n",
    "## 5. Evaluation of results\n",
    "\n",
    "The final result of the analysis is the decision tree with an accuracy score of about 80%. The results are compared with the hypothesis below.\n",
    "\n",
    "#### Running time\n",
    "The running time was not expected to be an important factor for the success of a movie, and the result showed that it was correct. The running time is not an important factor since it is not even included in the tree. That the time is not an important factor can also be understood from the graph, plotting the relation between runtime and average movie rating.\n",
    "\n",
    "#### Writers\n",
    "The writers-attribute was an uncertainty if they would be an important factor for the success of a movie. There are no previous studies regarding this and thereby the expectation was that the writers would not be important for success. The results, however, contradicts the hypothesis by showing that this is the most important factor for success. The root node of the tree checked the rating of the writer which means it was most important. As seen in the tree, there is just one movie with a writer rating below 0,367 that is successful. This means that with a bad writer it is very difficult to create a successful movie.\n",
    "\n",
    "#### Actors\n",
    "The actors of a movie were expected to be the most important factor for the success of a movie, based on the measurement of “star buzz”. However, the results are not in line with the hypothesis regarding the actors being the most important factor. However, it appeared still be important. According to the tree, even though the writer has good rating, the average actor rate needs to be higher than 0,254 to get the greatest chances of success.\n",
    "\n",
    "#### Director\n",
    "The director of a movie was expected to be one of the most important factors for success. However, it turned out not to be as important. The decision tree does not mention the director rating.\n",
    "\n",
    "#### Accuracy score\n",
    "The accuracy score of the decision tree is about 80% (+/- depending on the split between training and test data).  Even though the score is pretty good, there are some factors that might have affected it. One of them might be that the attributes used in the analysis are few and quite similar to each other, which makes the selection of questions that the tree can ask becomes quite simple and the range of options becomes restricted. \n",
    "\n",
    "#### Conclusion\n",
    "According to the hypothesis, actors and directors of movies were expected to be the most important factors for making a movie successful. The decision tree, however, shows a bit different result. According to it, the writer is the most important single attribute, but it is the combination of a good writer and good actors that will increase the chances to a successful movie’s the most. If the movie has a low rated writer its chances of being successful are almost nonexistent. Even if the movie has good rated writer the actor rating needs to be good to have the best chances of success. \n",
    "\n",
    "Another conclusion that can be drawn from the decision tree is that the running time and director do not have a greater impact on a movie's chances to succeed. This conclusion can be drawn since both of them are never mentioned in the tree.\n",
    "\n",
    "The final conclusion is that it is possible to say that a movie with a high rated writer and actors increase the chances of making a highly rated movie. Even though it is not with complete certainty that the movie will be high rated just by taking these aspects into the creation, this is something that the movie production company could act on. It is possible to find writers and actors that have a good rating but might not be that famous yet, and therefore they might not be too expensive yet. \n",
    "\n",
    "To get a better and more accurate result, the future work should take into account other important factors such as movie genres, descriptions, user reviews and profitability."
   ]
  },
  {
   "cell_type": "markdown",
   "metadata": {},
   "source": [
    "## 6. Schedule and description of project plan\n",
    "\n",
    "The project plan for the project beyond this pilot study is based on the CRISP-DM model, showing the steps for best practice in data mining."
   ]
  },
  {
   "cell_type": "markdown",
   "metadata": {},
   "source": [
    "<img src=\"CRISP-DM.png\" height=\"300px\" width=\"300px\">\n",
    "\n",
    "*Figure 1: Phases of the CRISP-DM reference model*"
   ]
  },
  {
   "cell_type": "markdown",
   "metadata": {},
   "source": [
    "#### Business Understanding\n",
    "The first step is to get an understanding of the business, the organisation and the environment.  In this case, it is about to get an understanding of the movie production business and to see what criteria that can be considered as a successful movie. What factors that will be considered as a successful data mining result should also be decided in this step. \n",
    "\n",
    "This step is quite challenging since the movie production business is a very subjective domain and in advance, it is very difficult to predict without proper knowledge in the area. The ratings at a site as IMDb is also very hard to understand the reasons for which they are made. A movie is based on creativity and for this, it requires great knowledge about this to understand what makes a movie good from a creator's perspective. To make a good analysis it’s important to understand what potential factors that should be analysed. By only using ratings from IMDb the analysis gets very restricted to those attributes provided and are not adapted to what really “should” be analysed, therefore this step is somewhat skipped in the pilot study.\n",
    "\n",
    "For the real project, some more time should be spent at this step to better figure out what should be analysed to improve the results.\n",
    "\n",
    "The estimated time for this will be approximately 15 % of the total time of the project.\n",
    "\n",
    "#### Data Understanding\n",
    "In this step, the data should be collected, described, verified and initially analysed. The data used in the pilot study is collected from IMDb. This data was perfect for an initial study but when the project is to be scaled up, additional and other types of data should be collected. Such as movie genres, descriptions, user reviews and profitability. By increasing the business understanding it will get clearer what different types of data that should be collected.\n",
    "\n",
    "When knowing what type of data is needed, it should not be too time-consuming to collect it and understand it. \n",
    "\n",
    "The estimated time for this will be approximately 20 % of the total time of the project.\n",
    "\n",
    "#### Data Preparation\n",
    "The preparation involves the selection and cleaning of the data. \n",
    "This will be a very time-consuming part of the project as finding out in the pilot study. The preparation step is very correlated to the modelling step. Once a model is produced some observations can be made to go back and tune the data to get better results. This is then iterated several times before getting to the final result.\n",
    "\n",
    "The estimated time for this will be approximately 25 % of the total time of the project.\n",
    "\n",
    "#### Modelling\n",
    "The modelling step is where the actual models are created from the data provided. This is done by selecting a proper data mining method, in our case classification and a decision tree. The method chosen was very well fit for the purpose of the project and should still be used in the future project. \n",
    "\n",
    "This step as mentioned before is very time-consuming, together with the data preparation step. Once a model is created it will be helpful to make observations to go back and tune the data for improving the results of the models.\n",
    "\n",
    "The estimated time for this will be approximately 15 % of the total time of the project.\n",
    "\n",
    "#### Evaluation\n",
    "This is about evaluating the results from the data mining. If the two previous steps are done properly, the evaluation should neither be too difficult nor time-consuming. If the data preparation and modelling is not done properly it will be very difficult to draw good conclusions.\n",
    "\n",
    "The estimated time for this will be approximately 10 % of the total time of the project.\n",
    "\n",
    "#### Deployment\n",
    "A plan for the deployment should be created as well as a plan for maintenance. This plan will vary depending on the results of the project. The deployment part of this project should not be too difficult due to the factor that a movie will be created either way. The biggest cause that could potentially hinder the conclusion of the analysis from being used is the budget. If the conclusion would be to use the most expensive writers, actors or directors it could not be possible to implement the plan. This is considered an edge case and the purpose of the analysis is to achieve success without exceeding the budget. Therefore the first steps should be done properly according to this.\n",
    "\n",
    "\n",
    "The estimated time for this will be approximately 5 % of the total time of the project."
   ]
  },
  {
   "cell_type": "markdown",
   "metadata": {},
   "source": [
    "## 7. Ethical aspects that need to be considered\n",
    "\n",
    "Since this report is analysing the data from movies and their ratings, it does not process any personal data which can be backed up to extract information about any specific individual who made a review. In addition, the actual information about the movies does not contain any personal information that could be harmful to anyone from an ethical perspective. \n",
    "\n",
    "Even though the information does not contain any type of personal information that could be harmful to any individual, there are a few other aspects that should be reflected.\n",
    "\n",
    "One of them is whether this type of analysis could hamper creativity in the creation of new movies. It might be good to with the help of data and statistics from older movies and analysing these for prediction of how new movies should be produced. What could happen, is that if all new movies are going to be created on the basis of what made earlier movies good rated and famous. The movie industry could be stuck in a pattern where the creativity, that is the most fundamental factor in the creation of new movies, will be limited due to the use of data analysis instead. In the long run, this could lead to the whole movie industry being affected negatively due to the new pattern of creating movies are based on earlier movies.\n",
    "\n",
    "Another aspect is whether the analysis will be biased by human decisions made in the preprocessing of the data. E.g. which tables that will be used or not. To make the data manageable, some important decisions must be taken by a human. By doing this though, some information will be left out and it will not know whether it was important or not for the analysis. Under perfect circumstances to make such an objective analysis as possible, all data should be used in the analysis or at least be sorted out by the computers and not actively by humans. People make much more subjective assessments than computers and even though the computer itself makes an objective assessment, it becomes indirectly subjective if a subjective assessment forms the basis for it.\n",
    "\n",
    "Lastly, the data that is being collected and used from IMDb could be misleading without knowing about it. Since the reviews are made somewhat anonymously this might lead to the reviews being incorrect and may be made for purposes other than just giving their objective opinion about the movie. This, for example, could be some political opinions that a person may have. If a movie is about politics and the people who review the movie are either for or against the person or political issue discussed in the movie, it may tend to give the movie either the lowest or highest rating without giving the movie itself an honest review."
   ]
  },
  {
   "cell_type": "markdown",
   "metadata": {},
   "source": [
    "## References\n",
    "\n",
    "Craig Batty (2015) *A screenwriter's journey into theme, and how creative writing research might help us to define screen production research*, Studies in Australasian Cinema, 9:2, pp. 110-121\n",
    "\n",
    "imdb.com (-), *Press Room*. Available at: https://www.imdb.com/pressroom/about/ [Accessed 19 Nov. 2018].\n",
    "\n",
    "imdb.com (2018), [online] Available at: https://datasets.imdbws.com/ [Accessed 22 Nov. 2018].\n",
    "\n",
    "Meenakshi, K., Maragatham, G., Agarwal, N. and Ghosh, I. (2018). *A Data mining Technique for Analyzing and Predicting the success of Movie*. Journal of Physics: Conference Series, 1000, p.012100.\n",
    "\n",
    "Oliver, M. B. & Hartman, T. (2010). *Exploring the Role of Meaningful Experiences in Users' Appreciation of “Good Movies”*. Berghahn Journals,Vol. 4, Issue 2, pp 128–150\n",
    "\n",
    "Rasoul Safavian, S., Landgrebe, D. (1991), *Transactions on Systems, Man and Cybernetics*, vol. 21, NO. 3, pp. 360-674. \n",
    "\n",
    "Sharda, R. and Delen, D. (2006). *Predicting box-office success of motion pictures with neural networks*. Expert Systems with Applications 30. Stillwater, Oklahoma, pp.243–254.\n",
    "\n",
    "Tan P-N., Steinbach, M., Kumar,V. (2014), *Introduction to Data Mining*, 1st ed, 7th ed., Harlow: Pearson\n",
    "\n",
    "Valenti, J. (1978). *Motion Pictures and Their Impact on Society in the Year\n",
    "2001*, speech given at the Midwest Research Institute, Kansas City,\n",
    "April 25, p. 3.\n",
    "\n",
    "Wu, X., Zhu, X., Wu, G. and Ding, W. (2014). *Data Mining with Big Data*. Transactions on knowledge and data engineering. IEEE, pp. 97-107.\n",
    "\n",
    "\n"
   ]
  }
 ],
 "metadata": {
  "kernelspec": {
   "display_name": "Python 3",
   "language": "python",
   "name": "python3"
  },
  "language_info": {
   "codemirror_mode": {
    "name": "ipython",
    "version": 3
   },
   "file_extension": ".py",
   "mimetype": "text/x-python",
   "name": "python",
   "nbconvert_exporter": "python",
   "pygments_lexer": "ipython3",
   "version": "3.6.5"
  }
 },
 "nbformat": 4,
 "nbformat_minor": 2
}
